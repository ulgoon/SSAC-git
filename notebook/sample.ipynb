{
 "cells": [
  {
   "cell_type": "markdown",
   "id": "06e61598",
   "metadata": {},
   "source": [
    "# Simple http request example\n",
    "\n",
    "[Get data from starbucks](https://www.starbucks.co.kr/store/getStore.do?r=VWW6MBSUM0)"
   ]
  },
  {
   "cell_type": "code",
   "execution_count": 3,
   "id": "56b5a3f3",
   "metadata": {},
   "outputs": [],
   "source": [
    "import requests\n",
    "from bs4 import BeautifulSoup"
   ]
  },
  {
   "cell_type": "code",
   "execution_count": 4,
   "id": "26b45515",
   "metadata": {},
   "outputs": [
    {
     "name": "stdout",
     "output_type": "stream",
     "text": [
      "<!doctype html><html itemscope=\"\" itemtype=\"http://schema.org/WebPage\" lang=\"ko\"><head><meta content=\"text/html; charset=UTF-8\" http-equiv=\"Content-Type\"><meta content=\"/images/branding/googleg/1x/goo\n"
     ]
    }
   ],
   "source": [
    "response = requests.get('https://www.google.com/')\n",
    "status = response.status_code\n",
    "html = response.text\n",
    "print(html[:200])"
   ]
  },
  {
   "cell_type": "code",
   "execution_count": 5,
   "id": "8b93ce72",
   "metadata": {},
   "outputs": [
    {
     "name": "stdout",
     "output_type": "stream",
     "text": [
      "Enter some number:3\n",
      "3\n"
     ]
    }
   ],
   "source": [
    "print(input('Enter some number:'))"
   ]
  },
  {
   "cell_type": "markdown",
   "id": "11f902ea",
   "metadata": {},
   "source": [
    "[latex](http://www.ktug.org/xe/index.php?mid=KTUG_open_board&document_srl=248288)\n",
    "\n",
    "\n",
    "$y=x+1$"
   ]
  },
  {
   "cell_type": "code",
   "execution_count": 6,
   "id": "5807242b",
   "metadata": {},
   "outputs": [
    {
     "name": "stdout",
     "output_type": "stream",
     "text": [
      "0\n",
      "1\n",
      "2\n",
      "3\n",
      "4\n",
      "5\n",
      "6\n",
      "7\n",
      "8\n",
      "9\n"
     ]
    }
   ],
   "source": [
    "for j in range(10):\n",
    "    print(j)"
   ]
  },
  {
   "cell_type": "code",
   "execution_count": 7,
   "id": "80d9491a",
   "metadata": {},
   "outputs": [
    {
     "name": "stdout",
     "output_type": "stream",
     "text": [
      "1\n",
      "2\n",
      "fizz\n",
      "4\n",
      "5\n",
      "fizz\n",
      "7\n",
      "8\n",
      "fizz\n",
      "10\n",
      "11\n",
      "fizz\n",
      "13\n",
      "14\n",
      "fizz\n"
     ]
    }
   ],
   "source": [
    "for i in range(1,15+1):\n",
    "    if i%3==0:\n",
    "        print('fizz')\n",
    "    else:\n",
    "        print(i)"
   ]
  },
  {
   "cell_type": "code",
   "execution_count": null,
   "id": "06e4e7cf",
   "metadata": {},
   "outputs": [],
   "source": []
  }
 ],
 "metadata": {
  "kernelspec": {
   "display_name": "Python 3 (ipykernel)",
   "language": "python",
   "name": "python3"
  },
  "language_info": {
   "codemirror_mode": {
    "name": "ipython",
    "version": 3
   },
   "file_extension": ".py",
   "mimetype": "text/x-python",
   "name": "python",
   "nbconvert_exporter": "python",
   "pygments_lexer": "ipython3",
   "version": "3.9.0"
  }
 },
 "nbformat": 4,
 "nbformat_minor": 5
}
