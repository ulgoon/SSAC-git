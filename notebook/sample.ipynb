{
 "cells": [
  {
   "cell_type": "markdown",
   "id": "06e61598",
   "metadata": {},
   "source": [
    "# Simple http request example\n",
    "\n",
    "[Get data from starbucks](https://www.starbucks.co.kr/store/getStore.do?r=VWW6MBSUM0)"
   ]
  },
  {
   "cell_type": "code",
   "execution_count": null,
   "id": "56b5a3f3",
   "metadata": {},
   "outputs": [],
   "source": [
    "import requests\n",
    "from bs4 import BeautifulSoup"
   ]
  },
  {
   "cell_type": "code",
   "execution_count": null,
   "id": "26b45515",
   "metadata": {},
   "outputs": [],
   "source": [
    "response = requests.get('https://www.google.com/')\n",
    "response.status_code"
   ]
  },
  {
   "cell_type": "code",
   "execution_count": null,
   "id": "8b93ce72",
   "metadata": {},
   "outputs": [],
   "source": [
    "print(input('Enter some number:'))"
   ]
  },
  {
   "cell_type": "markdown",
   "id": "11f902ea",
   "metadata": {},
   "source": [
    "[latex](http://www.ktug.org/xe/index.php?mid=KTUG_open_board&document_srl=248288)\n",
    "\n",
    "\n",
    "$y=x+1$"
   ]
  },
  {
   "cell_type": "code",
   "execution_count": null,
   "id": "34436fe7",
   "metadata": {},
   "outputs": [],
   "source": [
    "while True:\n",
    "    print('hello')"
   ]
  },
  {
   "cell_type": "code",
   "execution_count": null,
   "id": "5807242b",
   "metadata": {},
   "outputs": [],
   "source": [
    "for i in range(30):\n",
    "    print(i)"
   ]
  },
  {
   "cell_type": "code",
   "execution_count": null,
   "id": "80d9491a",
   "metadata": {},
   "outputs": [],
   "source": []
  }
 ],
 "metadata": {
  "kernelspec": {
   "display_name": "Python 3 (ipykernel)",
   "language": "python",
   "name": "python3"
  },
  "language_info": {
   "codemirror_mode": {
    "name": "ipython",
    "version": 3
   },
   "file_extension": ".py",
   "mimetype": "text/x-python",
   "name": "python",
   "nbconvert_exporter": "python",
   "pygments_lexer": "ipython3",
   "version": "3.9.0"
  }
 },
 "nbformat": 4,
 "nbformat_minor": 5
}
